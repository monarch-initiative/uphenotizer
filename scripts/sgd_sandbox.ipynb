{
 "cells": [
  {
   "cell_type": "code",
   "execution_count": 1,
   "metadata": {},
   "outputs": [
    {
     "name": "stderr",
     "output_type": "stream",
     "text": [
      "/Users/matentzn/.pyenv/versions/3.11.7/lib/python3.11/site-packages/tqdm/auto.py:21: TqdmWarning: IProgress not found. Please update jupyter and ipywidgets. See https://ipywidgets.readthedocs.io/en/stable/user_install.html\n",
      "  from .autonotebook import tqdm as notebook_tqdm\n"
     ]
    }
   ],
   "source": [
    "import json\n",
    "from oaklib import get_adapter\n",
    "import pandas as pd\n",
    "\n",
    "adapter = get_adapter(\"sqlite:obo:apo\")\n",
    "\n",
    "# Path to the file\n",
    "sgd_raw_data_path = '../data/PHENOTYPE_SGD.json'\n",
    "sgd_dosdp_path = '../data/sgd_dosdp.tsv'\n",
    "sgd_pato_mapping_path = '../data/sgd_pato.sssom.tsv'\n",
    "\n",
    "\n",
    "df_sgd_dosdp = pd.read_csv(sgd_dosdp_path, sep='\\t')\n",
    "df_sgd_pato_mapping = pd.read_csv(sgd_pato_mapping_path, sep='\\t')\n",
    "\n",
    "# Read and parse the JSON file\n",
    "try:\n",
    "    with open(sgd_raw_data_path, 'r') as file:\n",
    "        json_data = json.load(file)\n",
    "except FileNotFoundError:\n",
    "    print(f\"File not found: {sgd_raw_data_path}\")\n",
    "except json.JSONDecodeError:\n",
    "    print(\"Error decoding JSON from the file\")"
   ]
  },
  {
   "cell_type": "code",
   "execution_count": 2,
   "metadata": {},
   "outputs": [
    {
     "data": {
      "text/html": [
       "<div>\n",
       "<style scoped>\n",
       "    .dataframe tbody tr th:only-of-type {\n",
       "        vertical-align: middle;\n",
       "    }\n",
       "\n",
       "    .dataframe tbody tr th {\n",
       "        vertical-align: top;\n",
       "    }\n",
       "\n",
       "    .dataframe thead th {\n",
       "        text-align: right;\n",
       "    }\n",
       "</style>\n",
       "<table border=\"1\" class=\"dataframe\">\n",
       "  <thead>\n",
       "    <tr style=\"text-align: right;\">\n",
       "      <th></th>\n",
       "      <th>pato_id</th>\n",
       "      <th>pato_id_name</th>\n",
       "      <th>original_id</th>\n",
       "      <th>original_label</th>\n",
       "      <th>affected_entity_1_super</th>\n",
       "      <th>affected_entity_1_super_name</th>\n",
       "    </tr>\n",
       "  </thead>\n",
       "  <tbody>\n",
       "    <tr>\n",
       "      <th>0</th>\n",
       "      <td>PATO:0002301</td>\n",
       "      <td>decreased quality</td>\n",
       "      <td>APO:0000003</td>\n",
       "      <td>decreased</td>\n",
       "      <td>APO:0000087</td>\n",
       "      <td>resistance to chemicals</td>\n",
       "    </tr>\n",
       "    <tr>\n",
       "      <th>1</th>\n",
       "      <td>PATO:0002301</td>\n",
       "      <td>decreased quality</td>\n",
       "      <td>APO:0000003</td>\n",
       "      <td>decreased</td>\n",
       "      <td>APO:0000087</td>\n",
       "      <td>resistance to chemicals</td>\n",
       "    </tr>\n",
       "    <tr>\n",
       "      <th>2</th>\n",
       "      <td>PATO:0002301</td>\n",
       "      <td>decreased quality</td>\n",
       "      <td>APO:0000003</td>\n",
       "      <td>decreased</td>\n",
       "      <td>APO:0000110</td>\n",
       "      <td>competitive fitness</td>\n",
       "    </tr>\n",
       "    <tr>\n",
       "      <th>3</th>\n",
       "      <td>PATO:0002301</td>\n",
       "      <td>decreased quality</td>\n",
       "      <td>APO:0000003</td>\n",
       "      <td>decreased</td>\n",
       "      <td>APO:0000110</td>\n",
       "      <td>competitive fitness</td>\n",
       "    </tr>\n",
       "    <tr>\n",
       "      <th>4</th>\n",
       "      <td>PATO:0002301</td>\n",
       "      <td>decreased quality</td>\n",
       "      <td>APO:0000003</td>\n",
       "      <td>decreased</td>\n",
       "      <td>APO:0000095</td>\n",
       "      <td>chemical compound accumulation</td>\n",
       "    </tr>\n",
       "  </tbody>\n",
       "</table>\n",
       "</div>"
      ],
      "text/plain": [
       "        pato_id       pato_id_name  original_id original_label  \\\n",
       "0  PATO:0002301  decreased quality  APO:0000003      decreased   \n",
       "1  PATO:0002301  decreased quality  APO:0000003      decreased   \n",
       "2  PATO:0002301  decreased quality  APO:0000003      decreased   \n",
       "3  PATO:0002301  decreased quality  APO:0000003      decreased   \n",
       "4  PATO:0002301  decreased quality  APO:0000003      decreased   \n",
       "\n",
       "  affected_entity_1_super    affected_entity_1_super_name  \n",
       "0             APO:0000087         resistance to chemicals  \n",
       "1             APO:0000087         resistance to chemicals  \n",
       "2             APO:0000110             competitive fitness  \n",
       "3             APO:0000110             competitive fitness  \n",
       "4             APO:0000095  chemical compound accumulation  "
      ]
     },
     "execution_count": 2,
     "metadata": {},
     "output_type": "execute_result"
    }
   ],
   "source": [
    " # Extract phenotypeTermIdentifiers\n",
    "def get_mapped_pato_id(phenotype_term_id_order1, df_sgd_pato_mapping):\n",
    "    pato_id = df_sgd_pato_mapping[df_sgd_pato_mapping['subject_id'] == phenotype_term_id_order1]['object_id'].iloc[0]\n",
    "    pato_label = df_sgd_pato_mapping[df_sgd_pato_mapping['subject_id'] == phenotype_term_id_order1]['object_label'].iloc[0]\n",
    "    return pato_id, pato_label\n",
    "\n",
    "data = []\n",
    "\n",
    "for item in json_data[\"data\"]:\n",
    "   phenotype_term_id_order1 = None\n",
    "   phenotype_term_id_order2 = None\n",
    "   phenotype_term_id_order1_label = None\n",
    "   phenotype_term_id_order2_label = None\n",
    "\n",
    "   if \"phenotypeTermIdentifiers\" in item:\n",
    "      for pheno_id in item[\"phenotypeTermIdentifiers\"]:\n",
    "         \n",
    "         if pheno_id['termOrder']==1:\n",
    "            if phenotype_term_id_order1:\n",
    "               raise ValueError(f\"Phenotype description has unexpected term item: {pheno_id['termOrder']} ({pheno_id})\")\n",
    "            phenotype_term_id_order1 = pheno_id['termId']\n",
    "            if not phenotype_term_id_order1:\n",
    "               raise ValueError(f\"Phenotype description has unexpected term order 1 item: {pheno_id}\")\n",
    "            phenotype_term_id_order1_label = adapter.label(phenotype_term_id_order1)\n",
    "         elif pheno_id['termOrder']==2:\n",
    "            if phenotype_term_id_order2:\n",
    "               raise ValueError(f\"Phenotype description has unexpected term item: {pheno_id['termOrder']} ({pheno_id})\")\n",
    "            phenotype_term_id_order2 = pheno_id['termId']\n",
    "            if not phenotype_term_id_order2:\n",
    "               raise ValueError(f\"Phenotype description has unexpected term order 2 item: {pheno_id}\")\n",
    "            phenotype_term_id_order2_label = adapter.label(phenotype_term_id_order2)\n",
    "         else:\n",
    "               raise ValueError(f\"Phenotype description has unexpected order: {pheno_id['termOrder']} ({pheno_id})\")\n",
    "   \n",
    "   pato_id, pato_label = get_mapped_pato_id(phenotype_term_id_order1, df_sgd_pato_mapping)\n",
    "   data.append([pato_id, pato_label, phenotype_term_id_order1, phenotype_term_id_order1_label, phenotype_term_id_order2, phenotype_term_id_order2_label])\n",
    "\n",
    "df = pd.DataFrame.from_records(data, columns=[\"pato_id\", \"pato_id_name\", \"original_id\", \"original_label\", \"affected_entity_1_super\", \"affected_entity_1_super_name\"])\n",
    "\n",
    "df.head()\n",
    "\n",
    "df.to_csv('sgd_phenotype.csv', index=False)\n",
    "\n",
    "# NEXT TIME WORK ON ADDING THE GENERATED IDS TO DOSDP (TAKE CODE FROM KEVIN, RFACTOR)\n",
    "# NEXT TIME BUILD DOSDP GENERATE PIPELINE TO CREATE THE OWL - ensure tha\n"
   ]
  },
  {
   "cell_type": "code",
   "execution_count": 9,
   "metadata": {},
   "outputs": [
    {
     "data": {
      "text/plain": [
       "0    PATO:0002301\n",
       "Name: object_id, dtype: object"
      ]
     },
     "execution_count": 9,
     "metadata": {},
     "output_type": "execute_result"
    }
   ],
   "source": [
    "\n",
    "\n",
    "phenotype_term_id_order1=\"APO:0000003\"\n",
    "\n",
    "pato_id = get_mapped_pato_id(phenotype_term_id_order1, df_sgd_pato_mapping)\n",
    "pato_id"
   ]
  },
  {
   "cell_type": "code",
   "execution_count": 4,
   "metadata": {},
   "outputs": [
    {
     "ename": "NameError",
     "evalue": "name 'df' is not defined",
     "output_type": "error",
     "traceback": [
      "\u001b[0;31m---------------------------------------------------------------------------\u001b[0m",
      "\u001b[0;31mNameError\u001b[0m                                 Traceback (most recent call last)",
      "Cell \u001b[0;32mIn[4], line 1\u001b[0m\n\u001b[0;32m----> 1\u001b[0m df_dedup \u001b[38;5;241m=\u001b[39m \u001b[43mdf\u001b[49m\u001b[38;5;241m.\u001b[39mdrop_duplicates()\n\u001b[1;32m      2\u001b[0m df_dedup\u001b[38;5;241m.\u001b[39mto_csv(\u001b[38;5;124m\"\u001b[39m\u001b[38;5;124m../data/sgd_dosdp.tsv\u001b[39m\u001b[38;5;124m\"\u001b[39m,sep\u001b[38;5;241m=\u001b[39m\u001b[38;5;124m\"\u001b[39m\u001b[38;5;130;01m\\t\u001b[39;00m\u001b[38;5;124m\"\u001b[39m, index\u001b[38;5;241m=\u001b[39m\u001b[38;5;28;01mNone\u001b[39;00m)\n\u001b[1;32m      4\u001b[0m df_pato \u001b[38;5;241m=\u001b[39m df[[\u001b[38;5;124m'\u001b[39m\u001b[38;5;124mpato_id\u001b[39m\u001b[38;5;124m'\u001b[39m, \u001b[38;5;124m'\u001b[39m\u001b[38;5;124mpato_id_name\u001b[39m\u001b[38;5;124m'\u001b[39m]]\u001b[38;5;241m.\u001b[39mdrop_duplicates()\n",
      "\u001b[0;31mNameError\u001b[0m: name 'df' is not defined"
     ]
    }
   ],
   "source": [
    "df_dedup = df.drop_duplicates()\n",
    "df_dedup.to_csv(\"../data/sgd_dosdp.tsv\",sep=\"\\t\", index=None)\n",
    "\n",
    "df_pato = df[['pato_id', 'pato_id_name']].drop_duplicates()\n",
    "df_pato.to_csv(\"../data/sgd_modifiers.tsv\",sep=\"\\t\", index=None)\n",
    "\n",
    "df_entities = df[['affected_entity_1_super', 'affected_entity_1_super_name']].drop_duplicates()\n",
    "df_entities.to_csv(\"../data/sgd_entities.tsv\",sep=\"\\t\", index=None)\n",
    "\n",
    "# NOTE we need more thinking on how to patternise SGD, as they use \"normal\", \"abnormal\" etc a bit differently then uPheno.\n"
   ]
  }
 ],
 "metadata": {
  "kernelspec": {
   "display_name": "Python 3",
   "language": "python",
   "name": "python3"
  },
  "language_info": {
   "codemirror_mode": {
    "name": "ipython",
    "version": 3
   },
   "file_extension": ".py",
   "mimetype": "text/x-python",
   "name": "python",
   "nbconvert_exporter": "python",
   "pygments_lexer": "ipython3",
   "version": "3.11.7"
  }
 },
 "nbformat": 4,
 "nbformat_minor": 2
}
