{
 "cells": [
  {
   "cell_type": "code",
   "execution_count": 1,
   "metadata": {
    "ExecuteTime": {
     "end_time": "2024-03-13T18:48:30.975025Z",
     "start_time": "2024-03-13T18:48:19.848278Z"
    }
   },
   "outputs": [
    {
     "name": "stderr",
     "output_type": "stream",
     "text": [
      "/Users/kschaper/Documents/Monarch/uphenotizer/venv/lib/python3.9/site-packages/urllib3/__init__.py:34: NotOpenSSLWarning: urllib3 v2 only supports OpenSSL 1.1.1+, currently the 'ssl' module is compiled with 'LibreSSL 2.8.3'. See: https://github.com/urllib3/urllib3/issues/3020\n",
      "  warnings.warn(\n"
     ]
    },
    {
     "data": {
      "text/plain": "Downloading apo.db.gz: 0.00B [00:00, ?B/s]",
      "application/vnd.jupyter.widget-view+json": {
       "version_major": 2,
       "version_minor": 0,
       "model_id": "9e149272683946f1a0d59ecde84cf488"
      }
     },
     "metadata": {},
     "output_type": "display_data"
    },
    {
     "name": "stdout",
     "output_type": "stream",
     "text": [
      "File not found: ../data/PHENOTYPE_SGD.json\n"
     ]
    }
   ],
   "source": [
    "import json\n",
    "from oaklib import get_adapter\n",
    "import pandas as pd\n",
    "\n",
    "adapter = get_adapter(\"sqlite:obo:apo\")\n",
    "\n",
    "# Path to the file\n",
    "sgd_raw_data_path = '../data/PHENOTYPE_SGD.json'\n",
    "sgd_dosdp_path = '../data/sgd_dosdp.tsv'\n",
    "sgd_pato_mapping_path = '../data/sgd_pato.sssom.tsv'\n",
    "\n",
    "\n",
    "df_sgd_dosdp = pd.read_csv(sgd_dosdp_path, sep='\\t')\n",
    "df_sgd_pato_mapping = pd.read_csv(sgd_pato_mapping_path, sep='\\t')\n",
    "\n",
    "# Read and parse the JSON file\n",
    "try:\n",
    "    with open(sgd_raw_data_path, 'r') as file:\n",
    "        json_data = json.load(file)\n",
    "except FileNotFoundError:\n",
    "    print(f\"File not found: {sgd_raw_data_path}\")\n",
    "except json.JSONDecodeError:\n",
    "    print(\"Error decoding JSON from the file\")"
   ]
  },
  {
   "cell_type": "code",
   "execution_count": 2,
   "metadata": {
    "ExecuteTime": {
     "end_time": "2024-03-13T18:48:31.358571Z",
     "start_time": "2024-03-13T18:48:30.976519Z"
    }
   },
   "outputs": [
    {
     "ename": "NameError",
     "evalue": "name 'json_data' is not defined",
     "output_type": "error",
     "traceback": [
      "\u001B[0;31m---------------------------------------------------------------------------\u001B[0m",
      "\u001B[0;31mNameError\u001B[0m                                 Traceback (most recent call last)",
      "Cell \u001B[0;32mIn[2], line 9\u001B[0m\n\u001B[1;32m      5\u001B[0m    \u001B[38;5;28;01mreturn\u001B[39;00m pato_id, pato_label\n\u001B[1;32m      7\u001B[0m data \u001B[38;5;241m=\u001B[39m []\n\u001B[0;32m----> 9\u001B[0m \u001B[38;5;28;01mfor\u001B[39;00m item \u001B[38;5;129;01min\u001B[39;00m \u001B[43mjson_data\u001B[49m[\u001B[38;5;124m\"\u001B[39m\u001B[38;5;124mdata\u001B[39m\u001B[38;5;124m\"\u001B[39m]:\n\u001B[1;32m     10\u001B[0m   phenotype_term_id_order1 \u001B[38;5;241m=\u001B[39m \u001B[38;5;28;01mNone\u001B[39;00m\n\u001B[1;32m     11\u001B[0m   phenotype_term_id_order2 \u001B[38;5;241m=\u001B[39m \u001B[38;5;28;01mNone\u001B[39;00m\n",
      "\u001B[0;31mNameError\u001B[0m: name 'json_data' is not defined"
     ]
    }
   ],
   "source": [
    " # Extract phenotypeTermIdentifiers\n",
    "def get_mapped_pato_id(phenotype_term_id_order1, df_sgd_pato_mapping):\n",
    "    pato_id = df_sgd_pato_mapping[df_sgd_pato_mapping['subject_id'] == phenotype_term_id_order1]['object_id'].iloc[0]\n",
    "    pato_label = df_sgd_pato_mapping[df_sgd_pato_mapping['subject_id'] == phenotype_term_id_order1]['object_label'].iloc[0]\n",
    "    return pato_id, pato_label\n",
    "\n",
    "data = []\n",
    "\n",
    "for item in json_data[\"data\"]:\n",
    "   phenotype_term_id_order1 = None\n",
    "   phenotype_term_id_order2 = None\n",
    "   phenotype_term_id_order1_label = None\n",
    "   phenotype_term_id_order2_label = None\n",
    "\n",
    "   if \"phenotypeTermIdentifiers\" in item:\n",
    "      for pheno_id in item[\"phenotypeTermIdentifiers\"]:\n",
    "         \n",
    "         if pheno_id['termOrder']==1:\n",
    "            if phenotype_term_id_order1:\n",
    "               raise ValueError(f\"Phenotype description has unexpected term item: {pheno_id['termOrder']} ({pheno_id})\")\n",
    "            phenotype_term_id_order1 = pheno_id['termId']\n",
    "            if not phenotype_term_id_order1:\n",
    "               raise ValueError(f\"Phenotype description has unexpected term order 1 item: {pheno_id}\")\n",
    "            phenotype_term_id_order1_label = adapter.label(phenotype_term_id_order1)\n",
    "         elif pheno_id['termOrder']==2:\n",
    "            if phenotype_term_id_order2:\n",
    "               raise ValueError(f\"Phenotype description has unexpected term item: {pheno_id['termOrder']} ({pheno_id})\")\n",
    "            phenotype_term_id_order2 = pheno_id['termId']\n",
    "            if not phenotype_term_id_order2:\n",
    "               raise ValueError(f\"Phenotype description has unexpected term order 2 item: {pheno_id}\")\n",
    "            phenotype_term_id_order2_label = adapter.label(phenotype_term_id_order2)\n",
    "         else:\n",
    "               raise ValueError(f\"Phenotype description has unexpected order: {pheno_id['termOrder']} ({pheno_id})\")\n",
    "   \n",
    "   pato_id, pato_label = get_mapped_pato_id(phenotype_term_id_order1, df_sgd_pato_mapping)\n",
    "   data.append([pato_id, pato_label, phenotype_term_id_order1, phenotype_term_id_order1_label, phenotype_term_id_order2, phenotype_term_id_order2_label])\n",
    "\n",
    "df = pd.DataFrame.from_records(data, columns=[\"pato_id\", \"pato_id_name\", \"original_id\", \"original_label\", \"affected_entity_1_super\", \"affected_entity_1_super_name\"])\n",
    "\n",
    "df.head()\n",
    "\n",
    "df.to_csv('sgd_phenotype.csv', index=False)\n",
    "\n",
    "# NEXT TIME WORK ON ADDING THE GENERATED IDS TO DOSDP (TAKE CODE FROM KEVIN, RFACTOR)\n",
    "# NEXT TIME BUILD DOSDP GENERATE PIPELINE TO CREATE THE OWL - ensure tha\n"
   ]
  },
  {
   "cell_type": "code",
   "execution_count": null,
   "metadata": {
    "ExecuteTime": {
     "end_time": "2024-03-13T18:48:31.366226Z",
     "start_time": "2024-03-13T18:48:31.366085Z"
    }
   },
   "outputs": [],
   "source": [
    "\n",
    "\n",
    "phenotype_term_id_order1=\"APO:0000003\"\n",
    "\n",
    "pato_id = get_mapped_pato_id(phenotype_term_id_order1, df_sgd_pato_mapping)\n",
    "pato_id"
   ]
  },
  {
   "cell_type": "code",
   "execution_count": null,
   "metadata": {},
   "outputs": [],
   "source": [
    "df_dedup = df.drop_duplicates()\n",
    "df_dedup.to_csv(\"../data/sgd_dosdp.tsv\",sep=\"\\t\", index=None)\n",
    "\n",
    "df_pato = df[['pato_id', 'pato_id_name']].drop_duplicates()\n",
    "df_pato.to_csv(\"../data/sgd_modifiers.tsv\",sep=\"\\t\", index=None)\n",
    "\n",
    "df_entities = df[['affected_entity_1_super', 'affected_entity_1_super_name']].drop_duplicates()\n",
    "df_entities.to_csv(\"../data/sgd_entities.tsv\",sep=\"\\t\", index=None)\n",
    "\n",
    "# NOTE we need more thinking on how to patternise SGD, as they use \"normal\", \"abnormal\" etc a bit differently then uPheno.\n"
   ]
  }
 ],
 "metadata": {
  "kernelspec": {
   "display_name": "Python 3",
   "language": "python",
   "name": "python3"
  },
  "language_info": {
   "codemirror_mode": {
    "name": "ipython",
    "version": 3
   },
   "file_extension": ".py",
   "mimetype": "text/x-python",
   "name": "python",
   "nbconvert_exporter": "python",
   "pygments_lexer": "ipython3",
   "version": "3.11.7"
  }
 },
 "nbformat": 4,
 "nbformat_minor": 2
}
